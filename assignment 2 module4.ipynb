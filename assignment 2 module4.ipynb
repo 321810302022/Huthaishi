{
 "cells": [
  {
   "cell_type": "code",
   "execution_count": 7,
   "metadata": {},
   "outputs": [
    {
     "name": "stdout",
     "output_type": "stream",
     "text": [
      "1 2 fizz 4 pizza fizz 7 8 fizz pizza 11 fizz 13 14 fizzpizza 16 17 fizz 19 pizza fizz 22 23 fizz pizza 26 fizz 28 29 fizzpizza 31 32 fizz 34 pizza fizz 37 38 fizz pizza 41 fizz 43 44 fizzpizza 46 47 fizz 49 pizza fizz 52 53 fizz pizza 56 fizz 58 59 fizzpizza 61 62 fizz 64 pizza fizz 67 68 fizz pizza 71 fizz 73 74 fizzpizza 76 77 fizz 79 pizza fizz 82 83 fizz pizza 86 fizz 88 89 fizzpizza 91 92 fizz 94 pizza fizz 97 98 fizz pizza "
     ]
    }
   ],
   "source": [
    "#Write a program that prints the integers from 1 to 100. But for multiples of three print \"Fizz\". instead of the number, and for the\n",
    "#multiples of five print \"Buzz\". For numbers which are multiples of both three and five print \"FizzBuzz\"\n",
    "for i in range(1,101):\n",
    "    if i%3==0 and i%5!=0:\n",
    "        print(\"fizz\",end=\" \")\n",
    "    elif i%5==0 and i%3!=0:\n",
    "        print(\"pizza\",end=\" \")\n",
    "    elif i%3==0 and i%5==0:\n",
    "         print(\"fizzpizza\",end=\" \")\n",
    "    else:\n",
    "         print(i,end=\" \")"
   ]
  },
  {
   "cell_type": "code",
   "execution_count": 3,
   "metadata": {},
   "outputs": [
    {
     "name": "stdout",
     "output_type": "stream",
     "text": [
      "Before removing consecutive duplicates:\n",
      "List: [10, 10, 20, 30, 30, 20, 20]\n",
      "After removing consecutive duplicates:\n",
      "List: [10, 20, 30, 20]\n"
     ]
    }
   ],
   "source": [
    "#program to remove consecutive duplicates from list\n",
    "l1=[10,10,20,30,30,20,20]\n",
    "print(\"Before removing consecutive duplicates:\")\n",
    "print(\"List:\",l1)\n",
    "l=len(l1)\n",
    "l2=[]\n",
    "i=0\n",
    "while i<l-1:\n",
    "    j=i+1\n",
    "    if l1[i]==l1[j]:\n",
    "        l2.append(l1[i])\n",
    "        i+=2\n",
    "    else:\n",
    "        l2.append(l1[i])\n",
    "        i+=1\n",
    "while i<l:\n",
    "    l2.append(l1[i])\n",
    "    i+=1\n",
    "print(\"After removing consecutive duplicates:\")\n",
    "print(\"List:\",l2)"
   ]
  },
  {
   "cell_type": "code",
   "execution_count": 4,
   "metadata": {},
   "outputs": [
    {
     "name": "stdout",
     "output_type": "stream",
     "text": [
      "Before finding unique elements in list:\n",
      "List: [10, 20, 30, 40, 10, 20, 30, 40]\n",
      "After finding unique elements in list:\n",
      "List: [10, 20, 30, 40]\n"
     ]
    }
   ],
   "source": [
    "# program to find unique element from a list\n",
    "l1=[10,20,30,40,10,20,30,40]\n",
    "print(\"Before finding unique elements in list:\")\n",
    "print(\"List:\",l1)\n",
    "l2=list()\n",
    "for i in l1:\n",
    "    if i not in l2:\n",
    "        l2.append(i)\n",
    "    else:\n",
    "        continue\n",
    "print(\"After finding unique elements in list:\")\n",
    "print(\"List:\",l2)"
   ]
  },
  {
   "cell_type": "code",
   "execution_count": 5,
   "metadata": {},
   "outputs": [
    {
     "name": "stdout",
     "output_type": "stream",
     "text": [
      "Enter a number:6\n",
      "Enter the upper range:4\n",
      "Enter the lower range:3\n",
      "Entered number is not in given rannge.It is high\n"
     ]
    }
   ],
   "source": [
    "#function that checks whether a number is in a given range (inclusive of high and low)\n",
    "def ran(num):\n",
    "    h=int(input(\"Enter the upper range:\"))\n",
    "    l=int(input(\"Enter the lower range:\"))\n",
    "    if num>h:\n",
    "        print(\"Entered number is not in given rannge.It is high\")\n",
    "    elif num<l:\n",
    "        print(\"Entered number is not in given rannge.It is low\")\n",
    "    else:\n",
    "        print(\"Entered number is in given rannge\")\n",
    "a=int(input(\"Enter a number:\"))\n",
    "ran(a)"
   ]
  },
  {
   "cell_type": "code",
   "execution_count": 6,
   "metadata": {},
   "outputs": [
    {
     "name": "stdout",
     "output_type": "stream",
     "text": [
      "Enter a string:9\n",
      "No.of upper case letters: 0\n",
      "No.of lower case letters: 0\n"
     ]
    }
   ],
   "source": [
    "#function that accepts a string and calculate the number ofupper case letters and lower case letters.\n",
    "#Sample String : 'Hello Mr. Rogers, how are you this fine Tuesday?'\n",
    "#Expected Output:\n",
    "#No. of Upper case characters: 4 No. of Lower case Characters : 33\n",
    "def cal(a):\n",
    "    u=0\n",
    "    l=0\n",
    "    for i in a:\n",
    "        if i.isupper():\n",
    "            u+=1\n",
    "        if i.islower():\n",
    "            l+=1\n",
    "    print(\"No.of upper case letters:\",u)\n",
    "    print(\"No.of lower case letters:\",l)\n",
    "s=input(\"Enter a string:\")\n",
    "cal(s)"
   ]
  },
  {
   "cell_type": "code",
   "execution_count": null,
   "metadata": {},
   "outputs": [],
   "source": []
  }
 ],
 "metadata": {
  "kernelspec": {
   "display_name": "Python 3",
   "language": "python",
   "name": "python3"
  },
  "language_info": {
   "codemirror_mode": {
    "name": "ipython",
    "version": 3
   },
   "file_extension": ".py",
   "mimetype": "text/x-python",
   "name": "python",
   "nbconvert_exporter": "python",
   "pygments_lexer": "ipython3",
   "version": "3.8.3"
  }
 },
 "nbformat": 4,
 "nbformat_minor": 4
}
