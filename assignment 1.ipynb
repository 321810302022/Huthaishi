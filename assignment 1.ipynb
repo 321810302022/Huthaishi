{
 "cells": [
  {
   "cell_type": "code",
   "execution_count": 3,
   "metadata": {},
   "outputs": [
    {
     "name": "stdout",
     "output_type": "stream",
     "text": [
      "enter your first number: 5\n",
      "enter your second number: 8\n",
      "5 + 8 = \n",
      "13\n",
      "5 - 8 = \n",
      "-3\n",
      "5 * 8 = \n",
      "40\n",
      "5 / 8 = \n",
      "0.625\n",
      "5 % 8 = \n",
      "5\n",
      "5 ** 8 = \n",
      "390625\n",
      "5 // 8 = \n",
      "0\n"
     ]
    }
   ],
   "source": [
    "#python program to design simple caluculator for the operators\n",
    "\n",
    "\n",
    "x = int(input('enter your first number: '))\n",
    "y = int(input('enter your second number: '))\n",
    "\n",
    "print('{} + {} = '.format(x , y))\n",
    "print(x + y)\n",
    "\n",
    "print('{} - {} = '.format(x , y))\n",
    "print(x - y)\n",
    "\n",
    "print('{} * {} = '.format(x , y))\n",
    "print(x * y)\n",
    "\n",
    "\n",
    "print('{} / {} = '.format(x , y))\n",
    "print(x / y)\n",
    "\n",
    "print('{} % {} = '.format(x , y))\n",
    "print(x % y)\n",
    "\n",
    "print('{} ** {} = '.format(x , y))\n",
    "print(x ** y)\n",
    "\n",
    "print('{} // {} = '.format(x , y))\n",
    "print(x // y)"
   ]
  },
  {
   "cell_type": "code",
   "execution_count": 4,
   "metadata": {},
   "outputs": [
    {
     "name": "stdout",
     "output_type": "stream",
     "text": [
      "enter the principal amount :3\n",
      "enter the number of years :5\n",
      "enter the rate of interest :4\n",
      "Simple Interest : 0.6\n"
     ]
    }
   ],
   "source": [
    "#python program to caluculate simple interest\n",
    "\n",
    "P = float(input(\"enter the principal amount :\"))\n",
    "N = float(input(\"enter the number of years :\"))\n",
    "R = float(input(\"enter the rate of interest :\"))\n",
    "SI = (P * N * R)/100\n",
    "print(\"Simple Interest : {}\".format(SI))\n"
   ]
  },
  {
   "cell_type": "code",
   "execution_count": 5,
   "metadata": {},
   "outputs": [
    {
     "name": "stdout",
     "output_type": "stream",
     "text": [
      "enter the radiusof the circle :5\n",
      "area of the circle is :78.50\n"
     ]
    }
   ],
   "source": [
    "#python program to caluculate area of circle\n",
    "\n",
    "PI=3.14\n",
    "r=float(input('enter the radiusof the circle :'))\n",
    "area=PI*r*r\n",
    "print(\"area of the circle is :%.2f\" %area)"
   ]
  },
  {
   "cell_type": "code",
   "execution_count": 6,
   "metadata": {},
   "outputs": [
    {
     "name": "stdout",
     "output_type": "stream",
     "text": [
      "enter first side: 3\n",
      "enter second side: 6\n",
      "enter third side: 4\n",
      "the area of the triangle is 5.33\n"
     ]
    }
   ],
   "source": [
    "#python program to caluculate area of triangle\n",
    "\n",
    "a = float(input('enter first side: '))\n",
    "b = float(input('enter second side: '))\n",
    "c = float(input('enter third side: '))\n",
    "\n",
    "\n",
    "s = (a + b + c)  / 2\n",
    "\n",
    "\n",
    "area = (s*(s-a)*(s-b)*(s-c)) ** 0.5\n",
    "print('the area of the triangle is %0.2f' %area)"
   ]
  },
  {
   "cell_type": "code",
   "execution_count": 7,
   "metadata": {},
   "outputs": [
    {
     "name": "stdout",
     "output_type": "stream",
     "text": [
      "enter temperature in celsius: 50\n",
      "50.00 celsius is : 122.00 fahrenheit\n"
     ]
    }
   ],
   "source": [
    "#python program to caluculate celsius to fahrenheit\n",
    "\n",
    "celsius = float(input(\"enter temperature in celsius: \"))\n",
    "fahrenheit = (celsius * 9/5) +32\n",
    "print('%.2f celsius is : %0.2f fahrenheit' %(celsius, fahrenheit))"
   ]
  },
  {
   "cell_type": "code",
   "execution_count": 8,
   "metadata": {},
   "outputs": [
    {
     "name": "stdout",
     "output_type": "stream",
     "text": [
      "enter the width of a rectangle: 4\n",
      "enter the height of a rectangle: 6\n",
      "\n",
      " area of a rectangle is: 24.00\n"
     ]
    }
   ],
   "source": [
    "#python program to caluculate area of rectangle\n",
    "\n",
    "width = float(input('enter the width of a rectangle: '))\n",
    "heigth = float(input('enter the height of a rectangle: '))\n",
    "\n",
    "area = width*heigth\n",
    "\n",
    "perimeter = 2*(width + heigth)\n",
    "print(\"\\n area of a rectangle is: %.2f\" %area)"
   ]
  },
  {
   "cell_type": "code",
   "execution_count": 10,
   "metadata": {},
   "outputs": [
    {
     "name": "stdout",
     "output_type": "stream",
     "text": [
      "side :6\n",
      "perimeter of square :  30\n"
     ]
    }
   ],
   "source": [
    "#python program to caluculate perimetre of square\n",
    "\n",
    "s=int(input(\"side :\"))\n",
    "\n",
    "perimeter=5*s\n",
    "\n",
    "print(\"perimeter of square : \",perimeter)\n"
   ]
  },
  {
   "cell_type": "code",
   "execution_count": 11,
   "metadata": {},
   "outputs": [
    {
     "name": "stdout",
     "output_type": "stream",
     "text": [
      "enter 'x' for exit.\n",
      "enter radius of circle: 4\n",
      "\n",
      " circumference of  circle = 25.12\n"
     ]
    }
   ],
   "source": [
    "#python program to caluculate circumferance of circle\n",
    "\n",
    "print(\"enter 'x' for exit.\");\n",
    "rad = input(\"enter radius of circle: \");\n",
    "if rad == 'x':\n",
    "    exit();\n",
    "else:\n",
    "    radius = float(rad);\n",
    "    circumference = 2*3.14*radius;\n",
    "    print(\"\\n circumference of  circle =\",circumference);"
   ]
  },
  {
   "cell_type": "code",
   "execution_count": 12,
   "metadata": {},
   "outputs": [
    {
     "name": "stdout",
     "output_type": "stream",
     "text": [
      "the value of x after swapping: 8\n",
      "the value of y after swapping: 9\n"
     ]
    }
   ],
   "source": [
    "#python program to caluculate swap of two numbers\n",
    "\n",
    "x = 9\n",
    "y = 8\n",
    "\n",
    "temp = x\n",
    "x = y\n",
    "y = temp\n",
    "\n",
    "print( 'the value of x after swapping: {}'.format(x))\n",
    "print( 'the value of y after swapping: {}'.format(y))"
   ]
  }
 ],
 "metadata": {
  "kernelspec": {
   "display_name": "Python 3",
   "language": "python",
   "name": "python3"
  },
  "language_info": {
   "codemirror_mode": {
    "name": "ipython",
    "version": 3
   },
   "file_extension": ".py",
   "mimetype": "text/x-python",
   "name": "python",
   "nbconvert_exporter": "python",
   "pygments_lexer": "ipython3",
   "version": "3.8.3"
  }
 },
 "nbformat": 4,
 "nbformat_minor": 4
}
